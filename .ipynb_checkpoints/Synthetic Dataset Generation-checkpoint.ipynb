{
 "cells": [
  {
   "cell_type": "markdown",
   "id": "88732539-a41e-4647-8eb5-6872f5ab5745",
   "metadata": {},
   "source": [
    "### Import"
   ]
  },
  {
   "cell_type": "code",
   "execution_count": 1,
   "id": "9c36f750-bf1c-4f91-8595-40543364e37f",
   "metadata": {},
   "outputs": [],
   "source": [
    "import numpy as np\n",
    "import pandas as pd"
   ]
  },
  {
   "cell_type": "markdown",
   "id": "ecefaf1a-d44e-46a6-87f9-5f10a5f4ab2a",
   "metadata": {},
   "source": [
    "### Number of synthetic samples to generate"
   ]
  },
  {
   "cell_type": "code",
   "execution_count": 2,
   "id": "2ab1a6df-d416-4a3c-a6c4-37836bb84ae3",
   "metadata": {},
   "outputs": [],
   "source": [
    "N = 10000\n",
    "np.random.seed(42)"
   ]
  },
  {
   "cell_type": "markdown",
   "id": "4d15f724-ed82-4c7a-9734-b576fede4093",
   "metadata": {},
   "source": [
    "### Proportions for each overall risk category:"
   ]
  },
  {
   "cell_type": "code",
   "execution_count": 3,
   "id": "c7ee946d-3f1d-497a-a7ae-ffbfb52d8f50",
   "metadata": {},
   "outputs": [],
   "source": [
    "n_low = int(0.40 * N)\n",
    "n_med = int(0.35 * N)\n",
    "n_high = N - n_low - n_med"
   ]
  },
  {
   "cell_type": "markdown",
   "id": "9a00fc7f-f1a4-428b-8b78-c358576bf176",
   "metadata": {},
   "source": [
    "### Generate sensor readings for each risk category"
   ]
  },
  {
   "cell_type": "markdown",
   "id": "86496696-0563-474c-b6ce-b0643a834f20",
   "metadata": {},
   "source": [
    "#### Low Risk (Healthy)"
   ]
  },
  {
   "cell_type": "code",
   "execution_count": 4,
   "id": "5ab8afc8-38a4-42ff-9c73-ed7477c01d5a",
   "metadata": {},
   "outputs": [],
   "source": [
    "# Ball Bearing: high values; Vibration: low values; Humidity: normal\n",
    "ball_low = np.random.uniform(64.00, 93.74, n_low)\n",
    "vib_low = np.random.uniform(2.00, 21.27, n_low)\n",
    "hum_low = np.random.uniform(73.91, 74.72, n_low)\n",
    "risk_low = ['Low'] * n_low"
   ]
  },
  {
   "cell_type": "markdown",
   "id": "ba2ec365-f8f3-4b26-821e-debbeda08974",
   "metadata": {},
   "source": [
    "#### Medium Risk (Early degradation)"
   ]
  },
  {
   "cell_type": "code",
   "execution_count": 5,
   "id": "cd656d83-b3cd-4b24-920f-2a69521d8eb4",
   "metadata": {},
   "outputs": [],
   "source": [
    "# Ball Bearing: moderate (between 43.40 and 64.00)\n",
    "# Vibration: moderate (between 21.27 and 39.09)\n",
    "# Humidity: slightly off the normal (simulate two halves, we pick one side randomly)\n",
    "ball_med = np.random.uniform(43.40, 64.00, n_med)\n",
    "vib_med = np.random.uniform(21.27, 39.09, n_med)\n",
    "# For humidity, randomly choose from lower or upper medium risk ranges\n",
    "hum_med_lower = np.random.uniform(73.5, 73.91, n_med//2)\n",
    "hum_med_upper = np.random.uniform(74.72, 75.0, n_med - n_med//2)\n",
    "hum_med = np.concatenate([hum_med_lower, hum_med_upper])\n",
    "risk_med = ['Medium'] * n_med"
   ]
  },
  {
   "cell_type": "markdown",
   "id": "56ed0801-25d7-4067-a2c1-fde6f14a3779",
   "metadata": {},
   "source": [
    "#### High Risk (Severe degradation)"
   ]
  },
  {
   "cell_type": "code",
   "execution_count": 6,
   "id": "a9d2e460-c523-401c-856f-75999a69444b",
   "metadata": {},
   "outputs": [],
   "source": [
    "# Ball Bearing: low values (below 43.40)\n",
    "# Vibration: high values (above 39.09)\n",
    "# Humidity: extreme values (either low or high)\n",
    "ball_high = np.random.uniform(16.93, 43.40, n_high)\n",
    "vib_high = np.random.uniform(39.09, 100.00, n_high)\n",
    "# For humidity, randomly choose from the lower extreme or higher extreme range\n",
    "hum_high_lower = np.random.uniform(72.40, 73.5, n_high//2)\n",
    "hum_high_upper = np.random.uniform(75.0, 75.40, n_high - n_high//2)\n",
    "hum_high = np.concatenate([hum_high_lower, hum_high_upper])\n",
    "risk_high = ['High'] * n_high"
   ]
  },
  {
   "cell_type": "markdown",
   "id": "e3ef2da2-e010-427d-9cb6-869a9b0d3b8b",
   "metadata": {},
   "source": [
    "### Combine the data into a single DataFrame"
   ]
  },
  {
   "cell_type": "code",
   "execution_count": 7,
   "id": "57f25c04-e264-495c-b2cb-2bab644d4353",
   "metadata": {},
   "outputs": [],
   "source": [
    "synthetic_df = pd.DataFrame({\n",
    "    'ball_bearing': np.concatenate([ball_low, ball_med, ball_high]),\n",
    "    'vibration': np.concatenate([vib_low, vib_med, vib_high]),\n",
    "    'humidity': np.concatenate([hum_low, hum_med, hum_high]),\n",
    "    'risk_level': np.concatenate([risk_low, risk_med, risk_high])\n",
    "})"
   ]
  },
  {
   "cell_type": "markdown",
   "id": "79097335-b766-4da1-b758-ad4e5a0969c0",
   "metadata": {},
   "source": [
    "### Shuffle the dataset"
   ]
  },
  {
   "cell_type": "code",
   "execution_count": 8,
   "id": "8f414e95-b26f-4055-997c-72feb2ceb324",
   "metadata": {},
   "outputs": [],
   "source": [
    "synthetic_df = synthetic_df.sample(frac=1, random_state=42).reset_index(drop=True)"
   ]
  },
  {
   "cell_type": "markdown",
   "id": "2e39588c-81df-4b92-8705-abf3ab58d422",
   "metadata": {},
   "source": [
    "### Display sample rows and risk level distribution"
   ]
  },
  {
   "cell_type": "code",
   "execution_count": 9,
   "id": "4e63c128-6ed7-4d0a-bddc-827b6a37e31e",
   "metadata": {},
   "outputs": [
    {
     "name": "stdout",
     "output_type": "stream",
     "text": [
      "    ball_bearing  vibration   humidity risk_level\n",
      "0      53.287651  31.511211  74.755610     Medium\n",
      "1      54.138179  23.779652  73.539365     Medium\n",
      "2      82.554662   8.822824  74.516011        Low\n",
      "3      53.451727  26.665425  73.719980     Medium\n",
      "4      60.749528  33.679418  73.780989     Medium\n",
      "5      50.086320  36.609365  74.773490     Medium\n",
      "6      68.373965   9.913854  74.458865        Low\n",
      "7      54.843685  23.920574  73.699882     Medium\n",
      "8      61.045640  23.979704  74.801270     Medium\n",
      "9      66.419313   6.637721  74.245280        Low\n",
      "10     75.544048   7.538247  74.255419        Low\n",
      "11     44.991798  23.769579  74.919743     Medium\n",
      "12     46.952508  32.830431  73.743325     Medium\n",
      "13     54.935261  32.161738  73.585390     Medium\n",
      "14     68.799065   4.013336  74.166726        Low\n",
      "\n",
      "Risk Level Distribution:\n",
      "risk_level\n",
      "Low       4000\n",
      "Medium    3500\n",
      "High      2500\n",
      "Name: count, dtype: int64\n"
     ]
    }
   ],
   "source": [
    "print(synthetic_df.head(15))\n",
    "print(\"\\nRisk Level Distribution:\")\n",
    "print(synthetic_df['risk_level'].value_counts())"
   ]
  },
  {
   "cell_type": "markdown",
   "id": "ceb08a8c-938f-4690-bfd7-c96c46fdd274",
   "metadata": {},
   "source": [
    "### Data store"
   ]
  },
  {
   "cell_type": "code",
   "execution_count": 10,
   "id": "9ead57ab-2731-49e0-915c-3189548f7f9e",
   "metadata": {},
   "outputs": [],
   "source": [
    "synthetic_df.to_csv('synthetic_combined_dataset_lift_predictive.csv', index=False)"
   ]
  },
  {
   "cell_type": "code",
   "execution_count": null,
   "id": "1be6ee91-6d57-47ef-9815-d52a41ca7f64",
   "metadata": {},
   "outputs": [],
   "source": []
  }
 ],
 "metadata": {
  "kernelspec": {
   "display_name": "Python 3 (ipykernel)",
   "language": "python",
   "name": "python3"
  },
  "language_info": {
   "codemirror_mode": {
    "name": "ipython",
    "version": 3
   },
   "file_extension": ".py",
   "mimetype": "text/x-python",
   "name": "python",
   "nbconvert_exporter": "python",
   "pygments_lexer": "ipython3",
   "version": "3.12.0"
  }
 },
 "nbformat": 4,
 "nbformat_minor": 5
}
